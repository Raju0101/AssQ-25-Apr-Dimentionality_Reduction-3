{
 "cells": [
  {
   "cell_type": "markdown",
   "id": "f1cb8261-a0db-4ffc-a735-067b37cfd99c",
   "metadata": {},
   "source": [
    "# AssQ25-Apr Dimentionality Reduction - 3"
   ]
  },
  {
   "cell_type": "code",
   "execution_count": null,
   "id": "1d25f8bd-d589-48c4-915f-48828448cc5d",
   "metadata": {},
   "outputs": [],
   "source": [
    "Q1. What are Eigenvalues and Eigenvectors? How are they related to the Eigen-Decomposition approach? \n",
    "Explain with an example."
   ]
  },
  {
   "cell_type": "code",
   "execution_count": null,
   "id": "bb7ea6af-1036-4bff-8cef-08ee07c9dcfc",
   "metadata": {},
   "outputs": [],
   "source": [
    "An eigenvector corresponds to the real non zero eigenvalues which point in \n",
    "the direction stretched by the transformation whereas eigenvalue is considered as a factor by which it is stretched.\n",
    "In case, if the eigenvalue is negative, the direction of the transformation is negative.\n",
    "\n",
    "\n",
    "In simple terms, eigenvalues and eigenvectors are the building blocks of linear transformations. \n",
    "Eigenvalues represent the scaling factor by which a vector is transformed when a linear transformation is applied,\n",
    "while eigenvectors represent the directions in which the transformation occurs.\n",
    "\n",
    "\n",
    "The same methodology in math. An integer can be decomposed into prime factors, for example, 20 = 2 * 2 * 5,\n",
    "which means 20 is not divisible by 3, and any integer multiple of 20 will be divisible by 5.\n",
    "\n",
    "To find the eigenvalues of A, solve the characteristic equation |A - λI| = 0 (equation (2)) for λ and all \n",
    "such values of λ would give the eigenvalues. To find the eigenvectors of A, \n",
    "substitute each eigenvalue (i.e., the value of λ) in equation (1) (A - λI) v = O and solve for v using the method of your choice."
   ]
  },
  {
   "cell_type": "code",
   "execution_count": null,
   "id": "e84cfa3b-afbb-49c7-ba31-be0cda48310b",
   "metadata": {},
   "outputs": [],
   "source": []
  },
  {
   "cell_type": "code",
   "execution_count": null,
   "id": "8663022c-4fbb-4ea2-bf86-85e2e0b4a64e",
   "metadata": {},
   "outputs": [],
   "source": [
    "Q2. What is eigen decomposition and what is its significance in linear algebra?"
   ]
  },
  {
   "cell_type": "code",
   "execution_count": null,
   "id": "93668940-884b-49bb-84a0-9c0056d2292d",
   "metadata": {},
   "outputs": [],
   "source": [
    "In linear algebra, eigendecomposition is the factorization of a matrix into a canonical form, \n",
    "whereby the matrix is represented in terms of its eigenvalues and eigenvectors.\n",
    "Only diagonalizable matrices can be factorized in this way.\n",
    "\n",
    "\n",
    "Eigendecomposition provides us with a tool to decompose a matrix by discovering the eigenvalues and the eigenvectors. \n",
    "This operation can prove useful since it allows certain matrix operations to be easier to \n",
    "perform and it also tells us important facts about the matrix itself."
   ]
  },
  {
   "cell_type": "code",
   "execution_count": null,
   "id": "cc3f652c-6bb8-4c5f-b3a1-40fe4eb9fb23",
   "metadata": {},
   "outputs": [],
   "source": []
  },
  {
   "cell_type": "code",
   "execution_count": null,
   "id": "b7bb1527-d710-4bd8-a0b0-ec006ba8f0c2",
   "metadata": {},
   "outputs": [],
   "source": [
    "Q3. What are the conditions that must be satisfied for a square matrix to be diagonalizable using the \n",
    "Eigen-Decomposition approach? Provide a brief proof to support your answer."
   ]
  },
  {
   "cell_type": "code",
   "execution_count": null,
   "id": "de735545-d967-4449-9bf1-d866cbc6d715",
   "metadata": {},
   "outputs": [],
   "source": [
    "Hence, a matrix is diagonalizable if and only if its nilpotent part is zero. Put in another way, \n",
    "a matrix is diagonalizable if each block in its Jordan form has no nilpotent part; i.e., one-by-one matrix.\n",
    "\n",
    "A square matrix A is diagonalizable if A is similar to a diagonal matrix. This means A = PDP−1 for \n",
    "some invertible P and diagonal D, with all matrices being n × n.\n",
    "An n × n matrix A is diagonalizable if and only if A has n linearly independent eigenvectors.\n",
    "\n",
    "Matrix A (n×n), is diagonalizable if: Number of eigenvectors equals to number of eigenvalues. \n",
    "There exists an invertible matrix B and a diagonal matrix D such that: D=B−1AB.\n",
    "\n",
    "A diagonalizable matrix is any square matrix or linear map where it is possible to sum \n",
    "the eigenspaces to create a corresponding diagonal matrix.\n",
    "An n matrix is diagonalizable if the sum of the eigenspace dimensions is equal to n."
   ]
  },
  {
   "cell_type": "code",
   "execution_count": null,
   "id": "2b228a7f-e7d6-442d-855b-051f7fcb4b8b",
   "metadata": {},
   "outputs": [],
   "source": []
  },
  {
   "cell_type": "code",
   "execution_count": null,
   "id": "a0c49f45-3503-4198-99ac-91a4604be0b4",
   "metadata": {},
   "outputs": [],
   "source": [
    "Q4. What is the significance of the spectral theorem in the context of the Eigen-Decomposition approach? \n",
    "How is it related to the diagonalizability of a matrix? Explain with an example."
   ]
  },
  {
   "cell_type": "code",
   "execution_count": null,
   "id": "21111726-5a3b-4ba7-9a0d-2e04aa813384",
   "metadata": {},
   "outputs": [],
   "source": [
    "The spectral theorem provides a sufficient criterion for the existence of a particular canonical form.\n",
    "Specifically, the spectral theorem states that if M equals the transpose of M, then M is diagonalizable: \n",
    "there exists an invertible matrix C such that C − 1 M C C^{-1} MC C−1MC is a diagonal matrix.\n",
    "\n",
    "For every real symmetric matrix A there exists an orthogonal matrix Q and a diagonal matrix dM such that\n",
    "A = (QT dM Q). This decomposition is called a spectral decomposition of A since Q consists of the eigenvectors of A \n",
    "and the diagonal elements of dM are corresponding eigenvalues.\n",
    "\n",
    "\n",
    "particularly linear algebra and functional analysis, a spectral theorem is a result about \n",
    "when a linear operator or matrix can be diagonalized (that is, represented as a diagonal matrix in some basis).\n",
    "\n",
    "The spectral theorem provides a sufficient criterion for the existence of a particular canonical form. \n",
    "Specifically, the spectral theorem states that if M equals the transpose of M, then M is diagonalizable: \n",
    "there exists an invertible matrix C such that C − 1 M C C^{-1} MC C−1MC is a diagonal matrix.\n",
    "\n",
    "Symmetric matrices are diagonalizable because there is an explicit algorithm for finding a basis of eigenvectors for them.\n",
    "The key fact is that the unit ball is compact.\n",
    "This means we can solve maximal problems for continuous functions on it."
   ]
  },
  {
   "cell_type": "code",
   "execution_count": null,
   "id": "829519cf-4ac8-4170-9838-6e01cb941253",
   "metadata": {},
   "outputs": [],
   "source": []
  },
  {
   "cell_type": "code",
   "execution_count": null,
   "id": "06c8886e-89ec-403c-ab31-cf89a90fe65c",
   "metadata": {},
   "outputs": [],
   "source": [
    "Q5. How do you find the eigenvalues of a matrix and what do they represent?"
   ]
  },
  {
   "cell_type": "code",
   "execution_count": null,
   "id": "46490786-e456-4f05-857d-73506d6a7ef3",
   "metadata": {},
   "outputs": [],
   "source": [
    "Where determinant of Eigen matrix can be written as, |A- λI| and |A- λI| = 0 is the Eigen equation or characteristics equation, \n",
    "where “I” is the identity matrix. The roots of an Eigen matrix are called Eigen roots.\n",
    "\n",
    "Eigenvalues represent magnitude, or importance. Bigger Eigenvalues correlate with more important directions. \n",
    "Finally, we make an assumption that more variability in a particular direction\n",
    "correlates with explaining the behavior of the dependent variable.\n",
    "\n",
    "Eigenvalues are a special set of scalars associated with a linear system of equations (i.e.,\n",
    "a matrix equation) that are sometimes also known as characteristic roots, characteristic values (Hoffman and Kunze 1971), \n",
    "proper values, or latent roots (Marcus and Minc 1988, p. 144).\n",
    "\n",
    "We will have three cases classified by the eigenvalues (and in Chapter 3 by the roots to the characteristic equation):\n",
    "(i) Two distinct real eigenvalues, (ii) Complex conjugate eigenvalue, and (iii) One eigenvalue, one eigenvector."
   ]
  },
  {
   "cell_type": "code",
   "execution_count": null,
   "id": "eeb00a3d-ec0e-48f6-ab76-d3fd30dd43c4",
   "metadata": {},
   "outputs": [],
   "source": []
  },
  {
   "cell_type": "code",
   "execution_count": null,
   "id": "07a3bed4-8568-4494-a0a3-2352000f25a2",
   "metadata": {},
   "outputs": [],
   "source": [
    "Q6. What are eigenvectors and how are they related to eigenvalues?"
   ]
  },
  {
   "cell_type": "code",
   "execution_count": null,
   "id": "b5311a8d-5c93-4c42-baad-17c1bc70793c",
   "metadata": {},
   "outputs": [],
   "source": [
    "An eigenvector corresponds to the real non zero eigenvalues which point in the direction stretched by \n",
    "the transformation whereas eigenvalue is considered as a factor by which it is stretched. \n",
    "In case, if the eigenvalue is negative, the direction of the transformation is negative.\n",
    "\n",
    "The eigenvector is a vector that is associated with a set of linear equations. \n",
    "The eigenvector of a matrix is also known as a latent vector, proper vector,\n",
    "or characteristic vector. These are defined in the reference of a square matrix.\n",
    "\n",
    "Eigenvectors are the directions along which a particular linear transformation acts by flipping, \n",
    "compressing or stretching. Eigenvalue can be referred to as the strength of the transformation in the direction of eigenvector\n",
    "or the factor by which the compression occurs\n",
    "\n",
    "Eigenvectors represent directions. Think of plotting your data on a multidimensional scatterplot. \n",
    "Then one can think of an individual Eigenvector as a particular “direction” in your scatterplot of data. \n",
    "Eigenvalues represent magnitude, or importance.\n"
   ]
  },
  {
   "cell_type": "code",
   "execution_count": null,
   "id": "02c4bf04-0a28-4032-b80c-672d542bb252",
   "metadata": {},
   "outputs": [],
   "source": []
  },
  {
   "cell_type": "code",
   "execution_count": null,
   "id": "22629721-b74b-4750-8ae2-e16a84f427af",
   "metadata": {},
   "outputs": [],
   "source": [
    "Q7. Can you explain the geometric interpretation of eigenvectors and eigenvalues?"
   ]
  },
  {
   "cell_type": "code",
   "execution_count": null,
   "id": "fd132ebe-89f3-4eb6-be5d-9841e8c6dd5f",
   "metadata": {},
   "outputs": [],
   "source": [
    "Geometrically, an eigenvector, corresponding to a real nonzero eigenvalue, points in a direction in \n",
    "which it is stretched by the transformation and the eigenvalue is the factor by which it is stretched. \n",
    "If the eigenvalue is negative, the direction is reversed.\n",
    "\n",
    "A is often given by the definition that it is a vector x that satisfies the equation Ax=λx for some real number λ ."
   ]
  },
  {
   "cell_type": "code",
   "execution_count": null,
   "id": "6ed6812f-d289-4cd3-9d64-69344e12389c",
   "metadata": {},
   "outputs": [],
   "source": []
  },
  {
   "cell_type": "code",
   "execution_count": null,
   "id": "f4f2dac7-3f0e-48f1-a144-5cc1ebd68ff6",
   "metadata": {},
   "outputs": [],
   "source": [
    "Q8. What are some real-world applications of eigen decomposition?"
   ]
  },
  {
   "cell_type": "code",
   "execution_count": null,
   "id": "8b9b8f39-57ac-4e4f-aa66-943ea429cd99",
   "metadata": {},
   "outputs": [],
   "source": [
    "It is used in car design especially car stereo system and also in decoupling three phase system.\n",
    "Eigendecomposition is particularly useful for analysing the structure of the data matrix\n",
    "in terms of the eigenvalues and eigenvectors.\n",
    "\n",
    "Eigendecomposition provides us with a tool to decompose a matrix by discovering the eigenvalues and the eigenvectors. \n",
    "This operation can prove useful since it allows certain matrix operations to be easier to\n",
    "perform and it also tells us important facts about the matrix itself.\n",
    "\n",
    "Many applications of matrices in both engineering and science utilize eigenvalues and, sometimes, eigenvectors. \n",
    "Control theory, vibration analysis, electric circuits, advanced dynamics and\n",
    "quantum mechanics are just a few of the application areas.\n",
    "\n",
    "Eigenvalues and Eigenvector concepts are used in several fields including machine learning, \n",
    "quantum computing, communication system design,\n",
    "construction designs, electrical and mechanical engineering, etc."
   ]
  },
  {
   "cell_type": "code",
   "execution_count": null,
   "id": "97098515-6e29-4421-a211-bebfa36c42a9",
   "metadata": {},
   "outputs": [],
   "source": []
  },
  {
   "cell_type": "code",
   "execution_count": null,
   "id": "e9596521-976f-4faa-9f2d-44221970e7cb",
   "metadata": {},
   "outputs": [],
   "source": [
    "Q9. Can a matrix have more than one set of eigenvectors and eigenvalues?"
   ]
  },
  {
   "cell_type": "code",
   "execution_count": null,
   "id": "61fffc49-e18f-4d03-bf2f-84b10733ecd1",
   "metadata": {},
   "outputs": [],
   "source": [
    "Can matrix have more than one set of eigenvalues----\n",
    "\n",
    "No. If you have only the eigenvalues of a matrix (and not the matrix), then you cannot, \n",
    "in general, obtain the eigenvectors of that matrix without further information. \n",
    "The reason is simple: the eigenvalues of a matrix do not, in general, characterize that matrix.\n",
    "\n",
    "Since a nonzero subspace is infinite, every eigenvalue has infinitely many eigenvectors. (For example, \n",
    "multiplying an eigenvector by a nonzero scalar gives another eigenvector.) On the other hand,\n",
    "there can be at most n linearly independent eigenvectors\n",
    "of an n × n matrix, since R n has dimension n .\n",
    "\n",
    "\"square matrices have as many eigenvectors as they have linearly independent dimensions;\n",
    "i.e. a 2 x 2 matrix would have two eigenvectors, a 3 x 3 matrix three, and an n x n matrix would have n eigenvectors, \n",
    "each one representing its line of action in one dimension.\""
   ]
  },
  {
   "cell_type": "code",
   "execution_count": null,
   "id": "72efa381-bc37-4bd7-87b5-15e17b050fdb",
   "metadata": {},
   "outputs": [],
   "source": []
  },
  {
   "cell_type": "code",
   "execution_count": null,
   "id": "fb5d220a-1499-48e8-95ad-05f892d039c6",
   "metadata": {},
   "outputs": [],
   "source": [
    "Q10. In what ways is the Eigen-Decomposition approach useful in data analysis and machine learning? \n",
    "Discuss at least three specific applications or techniques that rely on Eigen-Decomposition."
   ]
  },
  {
   "cell_type": "code",
   "execution_count": null,
   "id": "34099504-70af-49a3-a526-026d60a9a6b8",
   "metadata": {},
   "outputs": [],
   "source": [
    "Eigendecomposition can also be used to calculate the principal components of a matrix in \n",
    "the Principal Component Analysis method or\n",
    "PCA that can be used to reduce the dimensionality of data in machine learning.\n",
    "\n",
    "This scaler multiple is known as Eigenvalue. Eigenvectors and Eigenvalues are key concepts \n",
    "used in feature extraction techniques such as Principal Component Analysis\n",
    "which is an algorithm used to reduce dimensionality while training a machine learning model.\n",
    "\n",
    "Eigenvectors are particular vectors that are unrotated by a transformation matrix, \n",
    "and eigenvalues are the amount by which the eigenvectors are stretched.\n",
    "These special 'eigen-things' are very useful in linear algebra and will let us examine \n",
    "Google's famous PageRank algorithm for presenting web search results."
   ]
  },
  {
   "cell_type": "code",
   "execution_count": null,
   "id": "e4d6343b-5ac6-4601-a795-8703bcd8fa59",
   "metadata": {},
   "outputs": [],
   "source": []
  },
  {
   "cell_type": "code",
   "execution_count": null,
   "id": "5ec0ada1-45c8-4063-9e1e-57ca9606cecb",
   "metadata": {},
   "outputs": [],
   "source": []
  }
 ],
 "metadata": {
  "kernelspec": {
   "display_name": "Python 3 (ipykernel)",
   "language": "python",
   "name": "python3"
  },
  "language_info": {
   "codemirror_mode": {
    "name": "ipython",
    "version": 3
   },
   "file_extension": ".py",
   "mimetype": "text/x-python",
   "name": "python",
   "nbconvert_exporter": "python",
   "pygments_lexer": "ipython3",
   "version": "3.10.6"
  }
 },
 "nbformat": 4,
 "nbformat_minor": 5
}
